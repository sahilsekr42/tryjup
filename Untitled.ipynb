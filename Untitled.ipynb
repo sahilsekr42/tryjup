{
 "cells": [
  {
   "cell_type": "code",
   "execution_count": 1,
   "id": "74347448-661e-4340-b3d5-d93f56bdf4aa",
   "metadata": {},
   "outputs": [
    {
     "name": "stdout",
     "output_type": "stream",
     "text": [
      "oo\n"
     ]
    }
   ],
   "source": [
    "print(\"oo\")"
   ]
  },
  {
   "cell_type": "code",
   "execution_count": null,
   "id": "57f5cb88-aa02-47a6-999b-0af4671e58f9",
   "metadata": {},
   "outputs": [],
   "source": [
    "i=9"
   ]
  }
 ],
 "metadata": {
  "kernelspec": {
   "display_name": "Python 3",
   "language": "python",
   "name": "python3"
  },
  "language_info": {
   "codemirror_mode": {
    "name": "ipython",
    "version": 3
   },
   "file_extension": ".py",
   "mimetype": "text/x-python",
   "name": "python",
   "nbconvert_exporter": "python",
   "pygments_lexer": "ipython3",
   "version": "3.6.9"
  }
 },
 "nbformat": 4,
 "nbformat_minor": 5
}
